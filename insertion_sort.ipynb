{
  "nbformat": 4,
  "nbformat_minor": 0,
  "metadata": {
    "colab": {
      "name": "insertion_sort.ipynb",
      "provenance": [],
      "authorship_tag": "ABX9TyP84G9TKp+I+DIVXfIRFbUD",
      "include_colab_link": true
    },
    "kernelspec": {
      "name": "python3",
      "display_name": "Python 3"
    },
    "language_info": {
      "name": "python"
    }
  },
  "cells": [
    {
      "cell_type": "markdown",
      "metadata": {
        "id": "view-in-github",
        "colab_type": "text"
      },
      "source": [
        "<a href=\"https://colab.research.google.com/github/rohit428/cakechat/blob/master/insertion_sort.ipynb\" target=\"_parent\"><img src=\"https://colab.research.google.com/assets/colab-badge.svg\" alt=\"Open In Colab\"/></a>"
      ]
    },
    {
      "cell_type": "code",
      "execution_count": null,
      "metadata": {
        "id": "Jqf0Ty2dkNpH"
      },
      "outputs": [],
      "source": [
        "\"\"\"implementation of insertion sort\n",
        "   best case timee complexity = O(n)\n",
        "   worst case time complexity = O(nsq)\"\"\"\n",
        "def insertion_sort(arr):\n",
        "     for i in range(1,len(arr)):\n",
        "       key = arr[i]\n",
        "       j = i-1\n",
        "       while j > 0 and arr[j]<arr[j+1]: #logic\n",
        "         arr[j+1]=arr[j]\n",
        "         j+=1  #twill coninue till j becomes -1\n",
        "       arr[j+1]=key\n"
      ]
    }
  ]
}